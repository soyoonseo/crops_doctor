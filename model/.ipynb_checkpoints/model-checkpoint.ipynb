{
 "cells": [
  {
   "cell_type": "markdown",
   "metadata": {
    "colab_type": "text",
    "id": "uGrs7eeT8EIY"
   },
   "source": [
    "# Prerequisites"
   ]
  },
  {
   "cell_type": "code",
   "execution_count": null,
   "metadata": {
    "colab": {},
    "colab_type": "code",
    "id": "uAnVFcwT53Mm"
   },
   "outputs": [],
   "source": [
    "!pip install -q git+https://github.com/tensorflow/examples.git#egg=tensorflow-examples[model_maker]"
   ]
  },
  {
   "cell_type": "code",
   "execution_count": null,
   "metadata": {
    "colab": {},
    "colab_type": "code",
    "id": "pNufyjWU57eR"
   },
   "outputs": [],
   "source": [
    "import numpy as np\n",
    "\n",
    "import tensorflow as tf\n",
    "assert tf.__version__.startswith('2')\n",
    "\n",
    "from tensorflow_examples.lite.model_maker.core.data_util.image_dataloader import ImageClassifierDataLoader\n",
    "from tensorflow_examples.lite.model_maker.core.task import image_classifier\n",
    "from tensorflow_examples.lite.model_maker.core.task.configs import QuantizationConfig\n",
    "from tensorflow_examples.lite.model_maker.core.task.model_spec import mobilenet_v2_spec\n",
    "from tensorflow_examples.lite.model_maker.core.task.model_spec import ImageModelSpec\n",
    "from tensorflow_examples.lite.model_maker.core.task import model_spec as ms\n",
    "\n",
    "import matplotlib.pyplot as plt\n",
    "\n",
    "import os\n",
    "import imghdr\n",
    "import shutil"
   ]
  },
  {
   "cell_type": "markdown",
   "metadata": {
    "colab_type": "text",
    "id": "CMqBRgmn8Hp-"
   },
   "source": [
    "# Data Download"
   ]
  },
  {
   "cell_type": "code",
   "execution_count": null,
   "metadata": {
    "colab": {},
    "colab_type": "code",
    "id": "ELn-m3wN9j_0"
   },
   "outputs": [],
   "source": [
    "# 드라이브 마운트시켜주기\n",
    "# 런타임 유형 반드시 GPU!!"
   ]
  },
  {
   "cell_type": "code",
   "execution_count": null,
   "metadata": {
    "colab": {},
    "colab_type": "code",
    "id": "70mOPkpM6cGE"
   },
   "outputs": [],
   "source": [
    "# 압축 풀어주기\n",
    "base_dir = \"/content/drive/My Drive/dataset/cropsdoctor\"\n",
    "\n",
    "os.chdir(base_dir)\n",
    "# !unzip cropsdoctor.zip"
   ]
  },
  {
   "cell_type": "markdown",
   "metadata": {
    "colab_type": "text",
    "id": "9kU9gbTy8O9d"
   },
   "source": [
    "# Data Preprocessing"
   ]
  },
  {
   "cell_type": "code",
   "execution_count": null,
   "metadata": {
    "colab": {},
    "colab_type": "code",
    "id": "ts8FWdKn9Vs2"
   },
   "outputs": [],
   "source": [
    "# 만약 .ipynb_checkpoint 디렉터리가 생성되면 지워주기\n",
    "# cropsdoctor.zip 파일 지워주기\n",
    "\n",
    "# !rm -rf `find -type d -name .ipynb_checkpoints`\n",
    "# os.remove(os.path.join(base_dir, 'cropsdoctor.zip'))"
   ]
  },
  {
   "cell_type": "code",
   "execution_count": null,
   "metadata": {
    "colab": {},
    "colab_type": "code",
    "id": "JOxDxGVx_CbK"
   },
   "outputs": [],
   "source": [
    "# train 디렉터리 지정해주기\n",
    "train_dir = base_dir"
   ]
  },
  {
   "cell_type": "code",
   "execution_count": null,
   "metadata": {
    "colab": {},
    "colab_type": "code",
    "id": "7lH2ioZG6vMP"
   },
   "outputs": [],
   "source": [
    "# tensorflow lite에서 지원하지 않는 포맷 제거하기\n",
    "# formats = ['jpg', 'jpeg', 'png', 'gif', 'bng']\n",
    "\n",
    "# for dir in os.listdir(train_dir):\n",
    "#   for file in os.listdir(os.path.join(base_dir, train_dir, dir)):\n",
    "#     if imghdr.what(os.path.join(base_dir, train_dir, dir, file)) not in formats:\n",
    "#       os.remove(os.path.join(base_dir, train_dir, dir, file))"
   ]
  },
  {
   "cell_type": "code",
   "execution_count": null,
   "metadata": {
    "colab": {
     "base_uri": "https://localhost:8080/",
     "height": 858
    },
    "colab_type": "code",
    "id": "1D_a8srD7HiZ",
    "outputId": "849fd866-8eb7-4850-a46a-3ada87a5b6a4"
   },
   "outputs": [
    {
     "name": "stdout",
     "output_type": "stream",
     "text": [
      "------------------------병해 당 이미지의 개수---------------------------\n",
      "[고추_건강] : 1000\n",
      "[고추_모자이크병] : 1000\n",
      "[고추_세균점무늬병] : 1000\n",
      "[고추_흰가루병] : 1000\n",
      "[옥수수_건강] : 1000\n",
      "[옥수수_검은줄오갈병] : 1000\n",
      "[옥수수_깜부기병] : 1000\n",
      "[옥수수_깨씨무늬병] : 996\n",
      "[옥수수_잎집무늬마름병] : 1000\n",
      "[콩_건강] : 1000\n",
      "[콩_균핵병] : 1000\n",
      "[콩_노균병] : 1000\n",
      "[콩_미이라병] : 953\n",
      "[콩_불마름병] : 1000\n",
      "[콩_자주무늬병] : 965\n",
      "[콩_점무늬병] : 1000\n",
      "[콩_콩황화모틀모자이크바이러스] : 1000\n",
      "[콩_탄저병] : 1000\n",
      "[토마토_건강] : 999\n",
      "[토마토_겹무늬병] : 1000\n",
      "[토마토_모자이크병] : 1000\n",
      "[토마토_세균점무늬병] : 1000\n",
      "[토마토_잎곰팡이] : 1000\n",
      "[토마토_잎마름역병] : 999\n",
      "[토마토_점박이응애] : 1000\n",
      "[토마토_탄저병] : 1000\n",
      "[토마토_황화잎말림바이러스] : 1000\n",
      "[토마토_흰무늬병] : 1000\n",
      "[감자_건강] : 1000\n",
      "[감자_겹둥근무늬병] : 1000\n",
      "[감자_역병] : 1000\n",
      "[감자_잎마름병] : 1000\n",
      "[감자_줄기검은병] : 1000\n",
      "[고추_갈색점무늬병] : 1000\n",
      "\n",
      "------------------------작물 당 병해의 수---------------------------\n",
      "[고추] : 5\n",
      "[옥수수] : 5\n",
      "[콩] : 9\n",
      "[토마토] : 10\n",
      "[감자] : 5\n",
      "\n",
      "------------------------전반적인 정보---------------------------\n",
      "총 병해 수 : 34\n",
      "총 학습 이미지 : 33912\n"
     ]
    }
   ],
   "source": [
    "# train, test별로, 범주별로 이미지 개수 확인\n",
    "# 총 학습 이미지 수 확인\n",
    "\n",
    "train_cnt = 0\n",
    "cropdict = {}\n",
    "\n",
    "print('------------------------병해 당 이미지의 개수---------------------------')\n",
    "for dir in os.listdir(train_dir):\n",
    "  cropname = dir.split('_')[0]\n",
    "  if cropname in cropdict:\n",
    "    cropdict[cropname] += 1\n",
    "  else:\n",
    "    cropdict[cropname] = 1\n",
    "\n",
    "  train_cnt += len(os.listdir(os.path.join(train_dir, dir)))\n",
    "  print(f'[{dir}] : {len(os.listdir(os.path.join(train_dir, dir)))}')\n",
    "print()\n",
    "\n",
    "print('------------------------작물 당 병해의 수---------------------------')\n",
    "for crop in cropdict.keys():\n",
    "  print(f'[{crop}] : {cropdict[crop]}')\n",
    "print()\n",
    "\n",
    "print('------------------------전반적인 정보---------------------------')\n",
    "print(f'총 병해 수 : {len(os.listdir(train_dir))}')\n",
    "print(f'총 학습 이미지 : {train_cnt}')"
   ]
  },
  {
   "cell_type": "markdown",
   "metadata": {
    "colab_type": "text",
    "id": "gXId70P3Jzk-"
   },
   "source": [
    "# Visualization"
   ]
  },
  {
   "cell_type": "code",
   "execution_count": 1,
   "metadata": {
    "colab": {
     "base_uri": "https://localhost:8080/",
     "height": 73
    },
    "colab_type": "code",
    "id": "YRrzZHn_J4KF",
    "outputId": "06f8ac62-6b58-4c7c-9c0a-35053eaafdfa"
   },
   "outputs": [],
   "source": [
    "# # 시각화를 위한 이미지 및 레이블 저장\n",
    "# # idx번째 이미지 불러오기\n",
    "# idx = 237\n",
    "# img_list = []\n",
    "\n",
    "# for dir in os.listdir(train_dir):\n",
    "#   img = os.listdir(os.path.join(train_dir, dir))[idx]\n",
    "#   img_list.append(os.path.join(train_dir, dir, img))\n",
    "\n",
    "# labels = [dir for dir in os.listdir(train_dir)]\n",
    "\n",
    "# print(labels)\n",
    "# print(img_list)"
   ]
  },
  {
   "cell_type": "code",
   "execution_count": 2,
   "metadata": {
    "colab": {
     "base_uri": "https://localhost:8080/",
     "height": 1000
    },
    "colab_type": "code",
    "id": "cM9-WYOwJywH",
    "outputId": "e1f3f2e9-7aaf-4e81-e549-1e394ceefe7f"
   },
   "outputs": [],
   "source": [
    "# # 데이터셋 시각화\n",
    "\n",
    "# import matplotlib.pyplot as plt\n",
    "# import matplotlib.image as mpimg\n",
    "# from PIL import Image\n",
    "\n",
    "# plt.figure(figsize=(30, 15))\n",
    "# for i, img_path in enumerate(img_list):\n",
    "#   sp = plt.subplot(5, 8, i + 1)\n",
    "#   sp.axis('Off') \n",
    "    \n",
    "#   img = mpimg.imread(img_path)\n",
    "#   sp.set_title(f'{labels[i]}', fontsize=12)\n",
    "#   plt.imshow(img)\n",
    "\n",
    "# plt.suptitle('Tomato leaf pest types', fontsize=20, y=0.93)\n",
    "# # plt.subplots_adjust(wspace=0.3, hspace=-0.4)\n",
    "# plt.show()"
   ]
  },
  {
   "cell_type": "markdown",
   "metadata": {
    "colab_type": "text",
    "id": "wQDfEEca8SSq"
   },
   "source": [
    "# Train Test Split"
   ]
  },
  {
   "cell_type": "code",
   "execution_count": null,
   "metadata": {
    "colab": {
     "base_uri": "https://localhost:8080/",
     "height": 73
    },
    "colab_type": "code",
    "id": "F9LxMnyq8TSs",
    "outputId": "a6a25372-e9b5-4334-9999-d90e62c4055b"
   },
   "outputs": [
    {
     "name": "stdout",
     "output_type": "stream",
     "text": [
      "INFO:tensorflow:Load image with size: 33912, num_label: 34, labels: 감자_건강, 감자_겹둥근무늬병, 감자_역병, 감자_잎마름병, 감자_줄기검은병, 고추_갈색점무늬병, 고추_건강, 고추_모자이크병, 고추_세균점무늬병, 고추_흰가루병, 옥수수_건강, 옥수수_검은줄오갈병, 옥수수_깜부기병, 옥수수_깨씨무늬병, 옥수수_잎집무늬마름병, 콩_건강, 콩_균핵병, 콩_노균병, 콩_미이라병, 콩_불마름병, 콩_자주무늬병, 콩_점무늬병, 콩_콩황화모틀모자이크바이러스, 콩_탄저병, 토마토_건강, 토마토_겹무늬병, 토마토_모자이크병, 토마토_세균점무늬병, 토마토_잎곰팡이, 토마토_잎마름역병, 토마토_점박이응애, 토마토_탄저병, 토마토_황화잎말림바이러스, 토마토_흰무늬병.\n"
     ]
    },
    {
     "name": "stderr",
     "output_type": "stream",
     "text": [
      "INFO:tensorflow:Load image with size: 33912, num_label: 34, labels: 감자_건강, 감자_겹둥근무늬병, 감자_역병, 감자_잎마름병, 감자_줄기검은병, 고추_갈색점무늬병, 고추_건강, 고추_모자이크병, 고추_세균점무늬병, 고추_흰가루병, 옥수수_건강, 옥수수_검은줄오갈병, 옥수수_깜부기병, 옥수수_깨씨무늬병, 옥수수_잎집무늬마름병, 콩_건강, 콩_균핵병, 콩_노균병, 콩_미이라병, 콩_불마름병, 콩_자주무늬병, 콩_점무늬병, 콩_콩황화모틀모자이크바이러스, 콩_탄저병, 토마토_건강, 토마토_겹무늬병, 토마토_모자이크병, 토마토_세균점무늬병, 토마토_잎곰팡이, 토마토_잎마름역병, 토마토_점박이응애, 토마토_탄저병, 토마토_황화잎말림바이러스, 토마토_흰무늬병.\n"
     ]
    }
   ],
   "source": [
    "# 학습에 90% 사용, 테스트에 10% 사용\n",
    "split_ratio = 0.9\n",
    "\n",
    "data = ImageClassifierDataLoader.from_folder(train_dir)\n",
    "train_data, test_data = data.split(split_ratio)"
   ]
  },
  {
   "cell_type": "markdown",
   "metadata": {
    "colab_type": "text",
    "id": "WMLgNRR38W8n"
   },
   "source": [
    "# Train Model"
   ]
  },
  {
   "cell_type": "code",
   "execution_count": null,
   "metadata": {
    "colab": {
     "base_uri": "https://localhost:8080/",
     "height": 1000
    },
    "colab_type": "code",
    "id": "U2HRaGi88WaK",
    "outputId": "d8775f72-821a-4341-834a-00e6e3695b7a"
   },
   "outputs": [
    {
     "name": "stdout",
     "output_type": "stream",
     "text": [
      "INFO:tensorflow:Retraining the models...\n"
     ]
    },
    {
     "name": "stderr",
     "output_type": "stream",
     "text": [
      "INFO:tensorflow:Retraining the models...\n"
     ]
    },
    {
     "name": "stdout",
     "output_type": "stream",
     "text": [
      "Model: \"sequential_7\"\n",
      "_________________________________________________________________\n",
      "Layer (type)                 Output Shape              Param #   \n",
      "=================================================================\n",
      "hub_keras_layer_v1v2_7 (HubK (None, 1280)              3413024   \n",
      "_________________________________________________________________\n",
      "dropout_7 (Dropout)          (None, 1280)              0         \n",
      "_________________________________________________________________\n",
      "dense_7 (Dense)              (None, 34)                43554     \n",
      "=================================================================\n",
      "Total params: 3,456,578\n",
      "Trainable params: 43,554\n",
      "Non-trainable params: 3,413,024\n",
      "_________________________________________________________________\n",
      "None\n",
      "Epoch 1/20\n",
      "953/953 [==============================] - 100s 105ms/step - loss: 2.1249 - accuracy: 0.5098\n",
      "Epoch 2/20\n",
      "953/953 [==============================] - 99s 104ms/step - loss: 1.4057 - accuracy: 0.7658\n",
      "Epoch 3/20\n",
      "953/953 [==============================] - 97s 102ms/step - loss: 1.3209 - accuracy: 0.7971\n",
      "Epoch 4/20\n",
      "953/953 [==============================] - 97s 102ms/step - loss: 1.2774 - accuracy: 0.8147\n",
      "Epoch 5/20\n",
      "953/953 [==============================] - 97s 101ms/step - loss: 1.2481 - accuracy: 0.8287\n",
      "Epoch 6/20\n",
      "953/953 [==============================] - 97s 102ms/step - loss: 1.2307 - accuracy: 0.8358\n",
      "Epoch 7/20\n",
      "953/953 [==============================] - 97s 101ms/step - loss: 1.2139 - accuracy: 0.8412\n",
      "Epoch 8/20\n",
      "953/953 [==============================] - 97s 102ms/step - loss: 1.2016 - accuracy: 0.8472\n",
      "Epoch 9/20\n",
      "953/953 [==============================] - 96s 101ms/step - loss: 1.1931 - accuracy: 0.8516\n",
      "Epoch 10/20\n",
      "953/953 [==============================] - 98s 103ms/step - loss: 1.1848 - accuracy: 0.8578\n",
      "Epoch 11/20\n",
      "953/953 [==============================] - 99s 104ms/step - loss: 1.1762 - accuracy: 0.8576\n",
      "Epoch 12/20\n",
      "953/953 [==============================] - 99s 104ms/step - loss: 1.1698 - accuracy: 0.8640\n",
      "Epoch 13/20\n",
      "953/953 [==============================] - 99s 103ms/step - loss: 1.1661 - accuracy: 0.8631\n",
      "Epoch 14/20\n",
      "953/953 [==============================] - 99s 104ms/step - loss: 1.1633 - accuracy: 0.8658\n",
      "Epoch 15/20\n",
      "953/953 [==============================] - 98s 102ms/step - loss: 1.1552 - accuracy: 0.8661\n",
      "Epoch 16/20\n",
      "953/953 [==============================] - 97s 102ms/step - loss: 1.1567 - accuracy: 0.8692\n",
      "Epoch 17/20\n",
      "953/953 [==============================] - 100s 105ms/step - loss: 1.1529 - accuracy: 0.8724\n",
      "Epoch 18/20\n",
      "953/953 [==============================] - 99s 104ms/step - loss: 1.1523 - accuracy: 0.8681\n",
      "Epoch 19/20\n",
      "953/953 [==============================] - 98s 103ms/step - loss: 1.1503 - accuracy: 0.8728\n",
      "Epoch 20/20\n",
      "953/953 [==============================] - 100s 105ms/step - loss: 1.1439 - accuracy: 0.8772\n"
     ]
    }
   ],
   "source": [
    "# 모델 학습시키기\n",
    "\n",
    "model = image_classifier.create(train_data, epochs=50, \n",
    "                                model_spec=ms.efficientnet_lite0_spec, \n",
    "                                dropout_rate=0.2, learning_rate=0.005, \n",
    "                                use_augmentation=False)"
   ]
  },
  {
   "cell_type": "code",
   "execution_count": null,
   "metadata": {
    "colab": {
     "base_uri": "https://localhost:8080/",
     "height": 35
    },
    "colab_type": "code",
    "id": "Fl3oeS2V8bGa",
    "outputId": "bc5fb818-258e-4f11-8259-25dab78aab93"
   },
   "outputs": [
    {
     "name": "stdout",
     "output_type": "stream",
     "text": [
      "106/106 [==============================] - 43s 408ms/step - loss: 1.0750 - accuracy: 0.8998\n"
     ]
    }
   ],
   "source": [
    "# loss, accuracy 평가\n",
    "loss, accuracy = model.evaluate(test_data)"
   ]
  },
  {
   "cell_type": "markdown",
   "metadata": {
    "colab_type": "text",
    "id": "s9t_ldSH8f_T"
   },
   "source": [
    "# Save Model"
   ]
  },
  {
   "cell_type": "code",
   "execution_count": 3,
   "metadata": {
    "colab": {
     "base_uri": "https://localhost:8080/",
     "height": 373
    },
    "colab_type": "code",
    "id": "NsdErOLh8cax",
    "outputId": "1649c7cc-832e-4df5-d72b-6cc1d149f9c1"
   },
   "outputs": [],
   "source": [
    "# # model.tflite 저장\n",
    "model.export(export_dir='.')"
   ]
  },
  {
   "cell_type": "code",
   "execution_count": null,
   "metadata": {
    "colab": {},
    "colab_type": "code",
    "id": "HVXOLPpK8drH"
   },
   "outputs": [],
   "source": [
    "# label.txt 저장\n",
    "\n",
    "labels = [dir for dir in os.listdir(train_dir)]\n",
    "\n",
    "with open('labels.txt', 'w') as f:\n",
    "  for label in labels:\n",
    "    f.write(label)\n",
    "    f.write('\\n')"
   ]
  },
  {
   "cell_type": "code",
   "execution_count": null,
   "metadata": {
    "colab": {},
    "colab_type": "code",
    "id": "YrXM8KAGCIvK"
   },
   "outputs": [],
   "source": []
  }
 ],
 "metadata": {
  "accelerator": "GPU",
  "colab": {
   "collapsed_sections": [],
   "name": "model.ipynb",
   "provenance": [],
   "toc_visible": true
  },
  "kernelspec": {
   "display_name": "Python 3",
   "language": "python",
   "name": "python3"
  },
  "language_info": {
   "codemirror_mode": {
    "name": "ipython",
    "version": 3
   },
   "file_extension": ".py",
   "mimetype": "text/x-python",
   "name": "python",
   "nbconvert_exporter": "python",
   "pygments_lexer": "ipython3",
   "version": "3.7.6"
  }
 },
 "nbformat": 4,
 "nbformat_minor": 1
}
